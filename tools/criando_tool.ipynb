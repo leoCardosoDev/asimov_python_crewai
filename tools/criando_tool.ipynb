{
 "cells": [
  {
   "cell_type": "code",
   "execution_count": 1,
   "metadata": {},
   "outputs": [],
   "source": [
    "\n",
    "from typing import Type\n",
    "from crewai.tools import BaseTool\n",
    "from pydantic import BaseModel, Field\n",
    "import json\n",
    "import yfinance as yf\n",
    "\n",
    "class RetornaCotacaoAtualInput(BaseModel):\n",
    "    \"\"\"Inputs da Tool RetornaCotacaoAtual.\"\"\"\n",
    "    acao: str = Field(..., description='Código da ação (ex: \"AAPL\" para Apple, \"PETR4.SA\" para Petrobras)')\n",
    "\n",
    "class RetornaCotacaoAtual(BaseTool):\n",
    "    name: str = \"Retorna cotação atual\"\n",
    "    description: str = \"Obtém a cotação mais recente de uma ação através da API do Yahoo Finance.\"\n",
    "    args_schema: Type[BaseModel] = RetornaCotacaoAtualInput\n",
    "    \n",
    "    def _run(self, acao: str) -> str: \n",
    "        try:\n",
    "            ticker = yf.Ticker(acao)\n",
    "            dados = ticker.history(period=\"1d\") # Obtém os dados do último dia\n",
    "            if not dados.empty:\n",
    "                ultima_linha = dados.iloc[-1] \n",
    "                return json.dumps({\n",
    "                    \"acao\": acao,\n",
    "                    \"preco_atual\": ultima_linha[\"Close\"],\n",
    "                    \"ultima_atualizacao\": ultima_linha.name.strftime(\"%Y-%m-%d %H:%M:%S\"),})\n",
    "            else:\n",
    "                return json.dumps({\"erro\": \"Nenhum dado encontrado para a ação fornecida.\"}) \n",
    "        except Exception as e:\n",
    "                return json.dumps({\"erro\": str(e)})"
   ]
  }
 ],
 "metadata": {
  "kernelspec": {
   "display_name": "Python 3",
   "language": "python",
   "name": "python3"
  },
  "language_info": {
   "codemirror_mode": {
    "name": "ipython",
    "version": 3
   },
   "file_extension": ".py",
   "mimetype": "text/x-python",
   "name": "python",
   "nbconvert_exporter": "python",
   "pygments_lexer": "ipython3",
   "version": "3.12.4"
  }
 },
 "nbformat": 4,
 "nbformat_minor": 2
}
